{
 "cells": [
  {
   "cell_type": "code",
   "execution_count": 1,
   "id": "7efc6353-946e-4c34-b3fe-ed0a5b90b41a",
   "metadata": {},
   "outputs": [],
   "source": [
    "import contrast"
   ]
  },
  {
   "cell_type": "code",
   "execution_count": 2,
   "id": "4b2e3a3b-ccf5-408f-af7c-972239907d36",
   "metadata": {},
   "outputs": [],
   "source": [
    "import os\n",
    "os.environ[\"TANGO_HOST\"] = \"b-v-softimax-csdb-0:10000\""
   ]
  },
  {
   "cell_type": "code",
   "execution_count": 3,
   "id": "8611237a-b48a-400f-9795-efded5e34747",
   "metadata": {},
   "outputs": [
    {
     "name": "stdout",
     "output_type": "stream",
     "text": [
      "\n",
      "Welcome to contrast,\n",
      "\n",
      "   \"CONTinuous RASTer\"\n",
      "[Errno 2] No such file or directory: '/data/staff/softimax/testproposal/testvisit/raw'\n",
      "The beamline energy is:  283.4863297341314\n"
     ]
    }
   ],
   "source": [
    "#run /Users/igobei/source/Python/contrast/beamlines/dummy/dummy_beamline.py\n",
    "%run /Users/igobei/source/Python/contrast/beamlines/softimax/softimax_beamline.py"
   ]
  },
  {
   "cell_type": "code",
   "execution_count": 4,
   "id": "ed09857c-ca44-4eb8-aa54-d3395ba9c27e",
   "metadata": {},
   "outputs": [],
   "source": [
    "from motor_widget import MotPosWid"
   ]
  },
  {
   "cell_type": "code",
   "execution_count": 5,
   "id": "dfbb459c-3133-493f-b97d-cadc4477855b",
   "metadata": {},
   "outputs": [
    {
     "name": "stdout",
     "output_type": "stream",
     "text": [
      "\n",
      "name              class                                                            \n",
      "-----------------------------------------------------------------------------------\n",
      "beamline_energy   <class 'contrast.motors.TangoMotor.TangoMotor'>                  \n",
      "coarse_x          <class 'contrast.motors.TangoMotor.TangoMotor'>                  \n",
      "coarse_y          <class 'contrast.motors.TangoMotor.TangoMotor'>                  \n",
      "finex             <class 'contrast.motors.TangoMotor.TangoMotor'>                  \n",
      "finey             <class 'contrast.motors.TangoMotor.TangoMotor'>                  \n",
      "osax              <class 'contrast.motors.TangoMotor.TangoMotor'>                  \n",
      "osay              <class 'contrast.motors.TangoMotor.TangoMotor'>                  \n",
      "zp                <class 'contrast.motors.TangoMotor.TangoMotor'>                  \n",
      "zp_E_mot          <class 'contrast.motors.TangoAttributeMotor.TangoAttributeMotor'>\n"
     ]
    }
   ],
   "source": [
    "%lsm"
   ]
  },
  {
   "cell_type": "code",
   "execution_count": 6,
   "id": "aa6dd662-565f-4159-99bd-001c2205cccf",
   "metadata": {},
   "outputs": [
    {
     "name": "stdout",
     "output_type": "stream",
     "text": [
      "Starting Qt event loop..\n"
     ]
    }
   ],
   "source": [
    "%motposwid finex finey"
   ]
  },
  {
   "cell_type": "code",
   "execution_count": 6,
   "id": "6cb92663-855c-4d88-997c-dd5c0ae32dfb",
   "metadata": {},
   "outputs": [],
   "source": [
    "mpw = MotPosWid(basex, basey, samx, samy, update_rate=100)"
   ]
  },
  {
   "cell_type": "code",
   "execution_count": 7,
   "id": "a0d7dcee-611b-4f11-9920-bb1a2ee03dea",
   "metadata": {},
   "outputs": [
    {
     "name": "stdout",
     "output_type": "stream",
     "text": [
      "Starting Qt event loop..\n"
     ]
    }
   ],
   "source": [
    "mpw.run()"
   ]
  },
  {
   "cell_type": "code",
   "execution_count": 7,
   "id": "34322b1e-475c-4c22-93f8-ecf48cd98503",
   "metadata": {},
   "outputs": [],
   "source": [
    "mv samx 2 samy 3"
   ]
  },
  {
   "cell_type": "code",
   "execution_count": 8,
   "id": "f0d1aa1e-1b0c-4e1b-bf09-3216122a8966",
   "metadata": {},
   "outputs": [],
   "source": [
    "samx.move(2.5)"
   ]
  },
  {
   "cell_type": "code",
   "execution_count": null,
   "id": "7851229c-6495-4e68-9311-bb83b4047da1",
   "metadata": {},
   "outputs": [],
   "source": [
    "%gui qt5"
   ]
  },
  {
   "cell_type": "code",
   "execution_count": 8,
   "id": "6ed158a5-e790-407e-a900-12de66e3e9c3",
   "metadata": {},
   "outputs": [
    {
     "name": "stderr",
     "output_type": "stream",
     "text": [
      "Traceback (most recent call last):\n",
      "  File \"/Users/igobei/source/Python/LightSTXM/motor_widget.py\", line 161, in update\n",
      "    pos = motor.position()\n",
      "  File \"/Users/igobei/source/Python/contrast/contrast/motors/Motor.py\", line 83, in position\n",
      "    return self.user_position\n",
      "  File \"/Users/igobei/source/Python/contrast/contrast/motors/Motor.py\", line 52, in user_position\n",
      "    return self.dial_position * self._scaling + self._offset\n",
      "  File \"/Users/igobei/source/Python/contrast/contrast/motors/TangoMotor.py\", line 26, in dial_position\n",
      "    return self.proxy.Position\n",
      "  File \"/Users/igobei/opt/anaconda3/envs/contrast/lib/python3.9/site-packages/tango/device_proxy.py\", line 326, in __DeviceProxy__getattr\n",
      "    return __get_attribute_value(self, attr_info, name)\n",
      "  File \"/Users/igobei/opt/anaconda3/envs/contrast/lib/python3.9/site-packages/tango/device_proxy.py\", line 287, in __get_attribute_value\n",
      "    attr_value = self.read_attribute(name).value\n",
      "  File \"/Users/igobei/opt/anaconda3/envs/contrast/lib/python3.9/site-packages/tango/green.py\", line 195, in greener\n",
      "    return executor.run(fn, args, kwargs, wait=wait, timeout=timeout)\n",
      "  File \"/Users/igobei/opt/anaconda3/envs/contrast/lib/python3.9/site-packages/tango/green.py\", line 109, in run\n",
      "    return fn(*args, **kwargs)\n",
      "  File \"/Users/igobei/opt/anaconda3/envs/contrast/lib/python3.9/site-packages/tango/device_proxy.py\", line 460, in __DeviceProxy__read_attribute\n",
      "    return __check_read_attribute(self._read_attribute(value, extract_as))\n",
      "PyTango.ConnectionFailed: DevFailed[\n",
      "DevError[\n",
      "    desc = TRANSIENT CORBA system exception: TRANSIENT_CallTimedout\n",
      "  origin = void Tango::Connection::connect(const std::string &) at (/Users/runner/miniforge3/conda-bld/cpptango_1667919265550/work/cppapi/client/devapi_base.cpp:604)\n",
      "  reason = API_CorbaException\n",
      "severity = ERR]\n",
      "\n",
      "DevError[\n",
      "    desc = Failed to connect to database on host b-v-softimax-csdb-0.maxiv.lu.se with port 10000\n",
      "  origin = void Tango::Connection::connect(const std::string &) at (/Users/runner/miniforge3/conda-bld/cpptango_1667919265550/work/cppapi/client/devapi_base.cpp:604)\n",
      "  reason = API_CantConnectToDatabase\n",
      "severity = ERR]\n",
      "\n",
      "DevError[\n",
      "    desc = Failed to execute command_inout on device sys/database/2, command DbImportDevice\n",
      "  origin = virtual Tango::DeviceData Tango::Connection::command_inout(const std::string &, const Tango::DeviceData &) at (/Users/runner/miniforge3/conda-bld/cpptango_1667919265550/work/cppapi/client/devapi_base.cpp:1324)\n",
      "  reason = API_CommandFailed\n",
      "severity = ERR]\n",
      "\n",
      "DevError[\n",
      "    desc = Failed to read_attribute on device b318a-ea01/ctl/pi_x, attribute Position\n",
      "  origin = virtual Tango::DeviceAttribute Tango::DeviceProxy::read_attribute(const std::string &) at (/Users/runner/miniforge3/conda-bld/cpptango_1667919265550/work/cppapi/client/devapi_base.cpp:5589)\n",
      "  reason = API_AttributeFailed\n",
      "severity = ERR]\n",
      "]\n"
     ]
    }
   ],
   "source": [
    "run ipython_qt.py"
   ]
  },
  {
   "cell_type": "code",
   "execution_count": 2,
   "id": "89eb0e75",
   "metadata": {},
   "outputs": [],
   "source": [
    "import numpy as np"
   ]
  },
  {
   "cell_type": "code",
   "execution_count": 3,
   "id": "f46f9958",
   "metadata": {},
   "outputs": [
    {
     "data": {
      "text/plain": [
       "3.141592653589793"
      ]
     },
     "execution_count": 3,
     "metadata": {},
     "output_type": "execute_result"
    }
   ],
   "source": [
    "np."
   ]
  },
  {
   "cell_type": "code",
   "execution_count": null,
   "id": "b3db054a",
   "metadata": {},
   "outputs": [],
   "source": []
  }
 ],
 "metadata": {
  "kernelspec": {
   "display_name": "Python 3 (ipykernel)",
   "language": "python",
   "name": "python3"
  },
  "language_info": {
   "codemirror_mode": {
    "name": "ipython",
    "version": 3
   },
   "file_extension": ".py",
   "mimetype": "text/x-python",
   "name": "python",
   "nbconvert_exporter": "python",
   "pygments_lexer": "ipython3",
   "version": "3.9.13"
  },
  "varInspector": {
   "cols": {
    "lenName": 16,
    "lenType": 16,
    "lenVar": 40
   },
   "kernels_config": {
    "python": {
     "delete_cmd_postfix": "",
     "delete_cmd_prefix": "del ",
     "library": "var_list.py",
     "varRefreshCmd": "print(var_dic_list())"
    },
    "r": {
     "delete_cmd_postfix": ") ",
     "delete_cmd_prefix": "rm(",
     "library": "var_list.r",
     "varRefreshCmd": "cat(var_dic_list()) "
    }
   },
   "types_to_exclude": [
    "module",
    "function",
    "builtin_function_or_method",
    "instance",
    "_Feature"
   ],
   "window_display": false
  }
 },
 "nbformat": 4,
 "nbformat_minor": 5
}
